{
 "cells": [
  {
   "cell_type": "code",
   "execution_count": 6,
   "id": "c090e2a0",
   "metadata": {},
   "outputs": [
    {
     "name": "stdout",
     "output_type": "stream",
     "text": [
      "1\n",
      "9\n"
     ]
    }
   ],
   "source": [
    "def isHappy(n: int) -> bool:\n",
    "    string = \"\"\n",
    "    for num in str(n):\n",
    "        print(num)\n",
    "    return None\n",
    "\n",
    "isHappy(19)"
   ]
  },
  {
   "cell_type": "code",
   "execution_count": null,
   "id": "9fed8e3c",
   "metadata": {},
   "outputs": [],
   "source": []
  }
 ],
 "metadata": {
  "kernelspec": {
   "display_name": "Python 3 (ipykernel)",
   "language": "python",
   "name": "python3"
  },
  "language_info": {
   "codemirror_mode": {
    "name": "ipython",
    "version": 3
   },
   "file_extension": ".py",
   "mimetype": "text/x-python",
   "name": "python",
   "nbconvert_exporter": "python",
   "pygments_lexer": "ipython3",
   "version": "3.8.5"
  }
 },
 "nbformat": 4,
 "nbformat_minor": 5
}
