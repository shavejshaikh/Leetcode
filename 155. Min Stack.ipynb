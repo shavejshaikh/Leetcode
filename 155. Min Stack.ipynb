{
 "cells": [
  {
   "cell_type": "code",
   "execution_count": 24,
   "id": "13587f73",
   "metadata": {},
   "outputs": [],
   "source": [
    "class MinStack:\n",
    "\n",
    "    def __init__(self):\n",
    "        self.stack = []\n",
    "\n",
    "    def push(self, val: int) -> None:\n",
    "        self.stack.append(val)\n",
    "\n",
    "    def pop(self) -> None:\n",
    "        self.stack.pop()\n",
    "\n",
    "    def top(self) -> int:\n",
    "        if len(self.stack)>0:\n",
    "            return self.stack[-1]\n",
    "        return None\n",
    "\n",
    "    def getMin(self) -> int:\n",
    "        if len(self.stack) > 0:\n",
    "            return min(self.stack)\n",
    "        return None\n",
    "\n",
    "        \n",
    "\n",
    "# Your MinStack object will be instantiated and called as such:\n",
    "minStack = MinStack()\n",
    "minStack.push(-2);\n",
    "minStack.push(0);\n",
    "minStack.push(-3);"
   ]
  },
  {
   "cell_type": "code",
   "execution_count": 29,
   "id": "802ded8f",
   "metadata": {},
   "outputs": [
    {
     "data": {
      "text/plain": [
       "-2"
      ]
     },
     "execution_count": 29,
     "metadata": {},
     "output_type": "execute_result"
    }
   ],
   "source": [
    "min_ = minStack.getMin(); # return -3\n",
    "min_"
   ]
  },
  {
   "cell_type": "code",
   "execution_count": 26,
   "id": "70845c66",
   "metadata": {},
   "outputs": [],
   "source": [
    "minStack.pop();"
   ]
  },
  {
   "cell_type": "code",
   "execution_count": 27,
   "id": "8ed9c8f9",
   "metadata": {},
   "outputs": [
    {
     "data": {
      "text/plain": [
       "0"
      ]
     },
     "execution_count": 27,
     "metadata": {},
     "output_type": "execute_result"
    }
   ],
   "source": [
    "top = minStack.top();    # return 0\n",
    "top"
   ]
  },
  {
   "cell_type": "code",
   "execution_count": 28,
   "id": "27605e2e",
   "metadata": {},
   "outputs": [
    {
     "data": {
      "text/plain": [
       "-2"
      ]
     },
     "execution_count": 28,
     "metadata": {},
     "output_type": "execute_result"
    }
   ],
   "source": [
    "min_ = minStack.getMin();# return -2\n",
    "min_"
   ]
  },
  {
   "cell_type": "code",
   "execution_count": null,
   "id": "a23b564e",
   "metadata": {},
   "outputs": [],
   "source": []
  }
 ],
 "metadata": {
  "kernelspec": {
   "display_name": "Python 3 (ipykernel)",
   "language": "python",
   "name": "python3"
  },
  "language_info": {
   "codemirror_mode": {
    "name": "ipython",
    "version": 3
   },
   "file_extension": ".py",
   "mimetype": "text/x-python",
   "name": "python",
   "nbconvert_exporter": "python",
   "pygments_lexer": "ipython3",
   "version": "3.8.10"
  }
 },
 "nbformat": 4,
 "nbformat_minor": 5
}
