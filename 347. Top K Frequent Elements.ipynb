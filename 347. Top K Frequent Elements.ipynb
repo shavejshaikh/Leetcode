{
 "cells": [
  {
   "cell_type": "code",
   "execution_count": 59,
   "id": "2322442c",
   "metadata": {},
   "outputs": [],
   "source": [
    "class Solution:\n",
    "    def topKFrequent(self, nums, k: int):\n",
    "        hashmap = {}\n",
    "        for i in nums:\n",
    "            hashmap[i] = hashmap.get(i,0)+1\n",
    "        hashmap = sorted(hashmap.items(), key=lambda x: x[1], reverse=True)\n",
    "\n",
    "        kfreq = []\n",
    "        for key, value in hashmap: \n",
    "            if k > 0:\n",
    "                kfreq.append(key)\n",
    "                k -=1\n",
    "        return kfreq\n",
    "    \n",
    "sol = Solution()        "
   ]
  },
  {
   "cell_type": "code",
   "execution_count": 60,
   "id": "06b5f5c9",
   "metadata": {},
   "outputs": [
    {
     "data": {
      "text/plain": [
       "[1, 2]"
      ]
     },
     "execution_count": 60,
     "metadata": {},
     "output_type": "execute_result"
    }
   ],
   "source": [
    "nums = [1,1,1,2,2,3]\n",
    "k = 2\n",
    "sol.topKFrequent(nums, k)"
   ]
  },
  {
   "cell_type": "code",
   "execution_count": 61,
   "id": "df192381",
   "metadata": {},
   "outputs": [
    {
     "data": {
      "text/plain": [
       "[1]"
      ]
     },
     "execution_count": 61,
     "metadata": {},
     "output_type": "execute_result"
    }
   ],
   "source": [
    "nums = [1,1]\n",
    "k = 1\n",
    "sol.topKFrequent(nums, k)"
   ]
  },
  {
   "cell_type": "code",
   "execution_count": null,
   "id": "a78072df",
   "metadata": {},
   "outputs": [],
   "source": []
  }
 ],
 "metadata": {
  "kernelspec": {
   "display_name": "Python 3 (ipykernel)",
   "language": "python",
   "name": "python3"
  },
  "language_info": {
   "codemirror_mode": {
    "name": "ipython",
    "version": 3
   },
   "file_extension": ".py",
   "mimetype": "text/x-python",
   "name": "python",
   "nbconvert_exporter": "python",
   "pygments_lexer": "ipython3",
   "version": "3.8.10"
  }
 },
 "nbformat": 4,
 "nbformat_minor": 5
}
