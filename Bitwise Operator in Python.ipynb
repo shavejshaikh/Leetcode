{
 "cells": [
  {
   "cell_type": "code",
   "execution_count": 1,
   "id": "2f6813cd",
   "metadata": {},
   "outputs": [],
   "source": [
    "a = 2\n",
    "b = 4"
   ]
  },
  {
   "cell_type": "markdown",
   "id": "b8a05864",
   "metadata": {},
   "source": [
    "### Bitwise Add\n",
    "#### a = 010 \n",
    "#### b = 100\n",
    "#### ans = 000"
   ]
  },
  {
   "cell_type": "code",
   "execution_count": 3,
   "id": "0931c258",
   "metadata": {},
   "outputs": [
    {
     "data": {
      "text/plain": [
       "0"
      ]
     },
     "execution_count": 3,
     "metadata": {},
     "output_type": "execute_result"
    }
   ],
   "source": [
    "a & b"
   ]
  },
  {
   "cell_type": "markdown",
   "id": "1583647b",
   "metadata": {},
   "source": [
    "### Bitwise Or"
   ]
  },
  {
   "cell_type": "code",
   "execution_count": 4,
   "id": "0a77f86f",
   "metadata": {},
   "outputs": [
    {
     "data": {
      "text/plain": [
       "6"
      ]
     },
     "execution_count": 4,
     "metadata": {},
     "output_type": "execute_result"
    }
   ],
   "source": [
    "a | b"
   ]
  },
  {
   "cell_type": "markdown",
   "id": "ed51e4dc",
   "metadata": {},
   "source": [
    "### Bitwise XOR"
   ]
  },
  {
   "cell_type": "code",
   "execution_count": 5,
   "id": "c785cab0",
   "metadata": {},
   "outputs": [
    {
     "data": {
      "text/plain": [
       "6"
      ]
     },
     "execution_count": 5,
     "metadata": {},
     "output_type": "execute_result"
    }
   ],
   "source": [
    "## a = 010\n",
    "## b = 100\n",
    "##       421\n",
    "## ans = 110\n",
    "\n",
    "a ^ b"
   ]
  },
  {
   "cell_type": "markdown",
   "id": "366e41bf",
   "metadata": {},
   "source": [
    "### Bitwise NOT"
   ]
  },
  {
   "cell_type": "code",
   "execution_count": 6,
   "id": "d023b468",
   "metadata": {},
   "outputs": [
    {
     "data": {
      "text/plain": [
       "-3"
      ]
     },
     "execution_count": 6,
     "metadata": {},
     "output_type": "execute_result"
    }
   ],
   "source": [
    "~a"
   ]
  },
  {
   "cell_type": "markdown",
   "id": "93f9d7b1",
   "metadata": {},
   "source": [
    "### Bitwise left shift"
   ]
  },
  {
   "cell_type": "code",
   "execution_count": 7,
   "id": "30ab8d4e",
   "metadata": {},
   "outputs": [
    {
     "data": {
      "text/plain": [
       "32"
      ]
     },
     "execution_count": 7,
     "metadata": {},
     "output_type": "execute_result"
    }
   ],
   "source": [
    "a << b"
   ]
  },
  {
   "cell_type": "markdown",
   "id": "4b3ca41d",
   "metadata": {},
   "source": [
    "### Bitwise right shift"
   ]
  },
  {
   "cell_type": "code",
   "execution_count": 8,
   "id": "0ebeef2b",
   "metadata": {},
   "outputs": [
    {
     "data": {
      "text/plain": [
       "0"
      ]
     },
     "execution_count": 8,
     "metadata": {},
     "output_type": "execute_result"
    }
   ],
   "source": [
    "a >> b"
   ]
  },
  {
   "cell_type": "code",
   "execution_count": null,
   "id": "e4f08a60",
   "metadata": {},
   "outputs": [],
   "source": []
  }
 ],
 "metadata": {
  "kernelspec": {
   "display_name": "Python 3 (ipykernel)",
   "language": "python",
   "name": "python3"
  },
  "language_info": {
   "codemirror_mode": {
    "name": "ipython",
    "version": 3
   },
   "file_extension": ".py",
   "mimetype": "text/x-python",
   "name": "python",
   "nbconvert_exporter": "python",
   "pygments_lexer": "ipython3",
   "version": "3.8.10"
  }
 },
 "nbformat": 4,
 "nbformat_minor": 5
}
