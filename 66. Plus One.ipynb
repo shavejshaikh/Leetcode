{
 "cells": [
  {
   "cell_type": "code",
   "execution_count": 30,
   "id": "28cf4651",
   "metadata": {},
   "outputs": [
    {
     "data": {
      "text/plain": [
       "[1, 2, 4]"
      ]
     },
     "execution_count": 30,
     "metadata": {},
     "output_type": "execute_result"
    }
   ],
   "source": [
    "def plusOne(digits):\n",
    "    string = \"\"\n",
    "    for num in digits:\n",
    "        string +=str(num)\n",
    "    string = int(string)+1\n",
    "\n",
    "    digit_ = []\n",
    "    for n in str(string):\n",
    "        digit_.append(int(n))\n",
    "    return digit_\n",
    "    \n",
    "    \n",
    "\n",
    "digits = [1,2,3]\n",
    "plusOne(digits)"
   ]
  },
  {
   "cell_type": "code",
   "execution_count": 11,
   "id": "ce2b42c2",
   "metadata": {},
   "outputs": [
    {
     "data": {
      "text/plain": [
       "6"
      ]
     },
     "execution_count": 11,
     "metadata": {},
     "output_type": "execute_result"
    }
   ],
   "source": [
    "def lengthOfLastWord(s: str) -> int:\n",
    "    s = s.strip()\n",
    "    string = s.split(\" \")[-1]\n",
    "    return len(string)\n",
    "\n",
    "\n",
    "# s = \"Hello World\"\n",
    "# s = \"   fly me   to   the moon  \"\n",
    "s = \"luffy is still joyboy\"\n",
    "lengthOfLastWord(s)"
   ]
  },
  {
   "cell_type": "code",
   "execution_count": 14,
   "id": "e37de4f0",
   "metadata": {},
   "outputs": [
    {
     "data": {
      "text/plain": [
       "2147483648"
      ]
     },
     "execution_count": 14,
     "metadata": {},
     "output_type": "execute_result"
    }
   ],
   "source": [
    "def divide(dividend: int, divisor: int) -> int:\n",
    "    value = int(dividend/divisor)\n",
    "    return value\n",
    "\n",
    "# divide(10,3)\n",
    "# divide(7,-3)\n",
    "divide(-2147483648,-1)"
   ]
  },
  {
   "cell_type": "code",
   "execution_count": null,
   "id": "41982b0f",
   "metadata": {},
   "outputs": [],
   "source": []
  }
 ],
 "metadata": {
  "kernelspec": {
   "display_name": "Python 3 (ipykernel)",
   "language": "python",
   "name": "python3"
  },
  "language_info": {
   "codemirror_mode": {
    "name": "ipython",
    "version": 3
   },
   "file_extension": ".py",
   "mimetype": "text/x-python",
   "name": "python",
   "nbconvert_exporter": "python",
   "pygments_lexer": "ipython3",
   "version": "3.8.5"
  }
 },
 "nbformat": 4,
 "nbformat_minor": 5
}
