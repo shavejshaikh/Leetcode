{
 "cells": [
  {
   "cell_type": "code",
   "execution_count": 1,
   "id": "9aa80517",
   "metadata": {},
   "outputs": [],
   "source": [
    "nums = [1,2,3,4]\n",
    "k = 5"
   ]
  },
  {
   "cell_type": "code",
   "execution_count": 5,
   "id": "b2ed023d",
   "metadata": {},
   "outputs": [
    {
     "name": "stdout",
     "output_type": "stream",
     "text": [
      "Found\n",
      "1  --  4\n",
      "Found\n",
      "2  --  3\n"
     ]
    }
   ],
   "source": [
    "data\n",
    "for i in range(0,len(nums)-1):\n",
    "    for j in range(i+1, len(nums)):\n",
    "        if nums[i]+nums[j] == k:\n",
    "            print(\"Found\")\n",
    "            print(nums[i],\" -- \",nums[j])"
   ]
  },
  {
   "cell_type": "code",
   "execution_count": 14,
   "id": "9c78e288",
   "metadata": {},
   "outputs": [
    {
     "name": "stdout",
     "output_type": "stream",
     "text": [
      "D is : {}\n",
      "Elif : 1\n",
      "D is : {1: 1}\n",
      "Elif : 2\n",
      "D is : {1: 1, 2: 1}\n",
      "IF  2\n",
      "{1: 1, 2: 1}\n",
      "D is : {1: 1, 2: 0}\n",
      "IF  1\n",
      "{1: 1, 2: 0}\n"
     ]
    },
    {
     "data": {
      "text/plain": [
       "{1: 0, 2: 0}"
      ]
     },
     "execution_count": 14,
     "metadata": {},
     "output_type": "execute_result"
    }
   ],
   "source": []
  },
  {
   "cell_type": "code",
   "execution_count": 7,
   "id": "5ca6db7a",
   "metadata": {},
   "outputs": [
    {
     "data": {
      "text/plain": [
       "2"
      ]
     },
     "execution_count": 7,
     "metadata": {},
     "output_type": "execute_result"
    }
   ],
   "source": [
    "num_operations"
   ]
  },
  {
   "cell_type": "code",
   "execution_count": null,
   "id": "451497db",
   "metadata": {},
   "outputs": [],
   "source": []
  }
 ],
 "metadata": {
  "kernelspec": {
   "display_name": "Python 3 (ipykernel)",
   "language": "python",
   "name": "python3"
  },
  "language_info": {
   "codemirror_mode": {
    "name": "ipython",
    "version": 3
   },
   "file_extension": ".py",
   "mimetype": "text/x-python",
   "name": "python",
   "nbconvert_exporter": "python",
   "pygments_lexer": "ipython3",
   "version": "3.8.5"
  }
 },
 "nbformat": 4,
 "nbformat_minor": 5
}
