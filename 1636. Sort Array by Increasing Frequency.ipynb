{
 "cells": [
  {
   "cell_type": "code",
   "execution_count": 26,
   "id": "22b182ba",
   "metadata": {},
   "outputs": [],
   "source": [
    "class Solution:\n",
    "    def frequencySort(self, nums):\n",
    "        hashmap = {}\n",
    "        for i in sorted(nums):\n",
    "            hashmap[i] = hashmap.get(i,0)+1\n",
    "        result = []\n",
    "        hashmap = sorted(hashmap.items(), key = lambda kv: kv[1])\n",
    "        \n",
    "        for k, v in hashmap:\n",
    "            result.extend([k]*v)\n",
    "        return result\n",
    "sol = Solution()\n"
   ]
  },
  {
   "cell_type": "code",
   "execution_count": 27,
   "id": "4f311a6a",
   "metadata": {},
   "outputs": [
    {
     "name": "stdout",
     "output_type": "stream",
     "text": [
      "{1: 2, 2: 3, 3: 1}\n",
      "[(3, 1), (1, 2), (2, 3)]\n"
     ]
    },
    {
     "data": {
      "text/plain": [
       "[3, 1, 1, 2, 2, 2]"
      ]
     },
     "execution_count": 27,
     "metadata": {},
     "output_type": "execute_result"
    }
   ],
   "source": [
    "nums = [1,1,2,2,2,3]\n",
    "sol.frequencySort(nums)"
   ]
  },
  {
   "cell_type": "code",
   "execution_count": 28,
   "id": "034d3edf",
   "metadata": {},
   "outputs": [
    {
     "name": "stdout",
     "output_type": "stream",
     "text": [
      "{1: 1, 2: 2, 3: 2}\n",
      "[(1, 1), (2, 2), (3, 2)]\n"
     ]
    },
    {
     "data": {
      "text/plain": [
       "[1, 2, 2, 3, 3]"
      ]
     },
     "execution_count": 28,
     "metadata": {},
     "output_type": "execute_result"
    }
   ],
   "source": [
    "nums = [2,3,1,3,2]\n",
    "sol.frequencySort(nums)"
   ]
  },
  {
   "cell_type": "code",
   "execution_count": 4,
   "id": "62e5e965",
   "metadata": {},
   "outputs": [],
   "source": [
    "nums = [-1,1,-6,4,5,-6,1,4,1]\n",
    "sol.frequencySort(nums)"
   ]
  },
  {
   "cell_type": "code",
   "execution_count": null,
   "id": "027e34bd",
   "metadata": {},
   "outputs": [],
   "source": []
  }
 ],
 "metadata": {
  "kernelspec": {
   "display_name": "Python 3 (ipykernel)",
   "language": "python",
   "name": "python3"
  },
  "language_info": {
   "codemirror_mode": {
    "name": "ipython",
    "version": 3
   },
   "file_extension": ".py",
   "mimetype": "text/x-python",
   "name": "python",
   "nbconvert_exporter": "python",
   "pygments_lexer": "ipython3",
   "version": "3.8.10"
  }
 },
 "nbformat": 4,
 "nbformat_minor": 5
}
