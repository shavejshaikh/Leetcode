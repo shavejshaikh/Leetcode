{
 "cells": [
  {
   "cell_type": "code",
   "execution_count": 2,
   "id": "b4e303e7",
   "metadata": {},
   "outputs": [
    {
     "data": {
      "text/plain": [
       "[0, 1]"
      ]
     },
     "execution_count": 2,
     "metadata": {},
     "output_type": "execute_result"
    }
   ],
   "source": [
    "class Solution:\n",
    "    def twoSum(self, nums, target):\n",
    "        targetList = []\n",
    "        for i in range(0,len(nums)-1):\n",
    "            for j in range(i+1,len(nums)):\n",
    "                if (nums[i] + nums[j]) == target:\n",
    "                        targetList.append(i)\n",
    "                        targetList.append(j)\n",
    "\n",
    "        return targetList\n",
    "\n",
    "        \n",
    "\n",
    "sol = Solution()\n",
    "nums = [2,7,11,15]\n",
    "target = 9\n",
    "sol.twoSum(nums, target)"
   ]
  },
  {
   "cell_type": "code",
   "execution_count": 38,
   "id": "e12ff702",
   "metadata": {},
   "outputs": [
    {
     "name": "stdout",
     "output_type": "stream",
     "text": [
      "{}\n",
      "{2: 0}\n",
      "{2: 0, 72: 1}\n",
      "{2: 0, 72: 1, 11: 2}\n",
      "{2: 0, 72: 1, 11: 2, 15: 3}\n"
     ]
    },
    {
     "data": {
      "text/plain": [
       "[0, 4]"
      ]
     },
     "execution_count": 38,
     "metadata": {},
     "output_type": "execute_result"
    }
   ],
   "source": [
    "class Solution:\n",
    "    def twoSum(self, nums, target):\n",
    "        targetList = {}\n",
    "        \n",
    "        for index, num in enumerate(nums):\n",
    "            rem = target - num\n",
    "            print(targetList)\n",
    "            \n",
    "            if rem in targetList:\n",
    "                return[targetList[rem], index]\n",
    "            targetList[num] = index\n",
    "                \n",
    "\n",
    "sol = Solution()\n",
    "nums = [2,72,11,15,7]\n",
    "target = 9\n",
    "sol.twoSum(nums, target)"
   ]
  },
  {
   "cell_type": "code",
   "execution_count": null,
   "id": "30e66f70",
   "metadata": {},
   "outputs": [],
   "source": []
  }
 ],
 "metadata": {
  "kernelspec": {
   "display_name": "Python 3 (ipykernel)",
   "language": "python",
   "name": "python3"
  },
  "language_info": {
   "codemirror_mode": {
    "name": "ipython",
    "version": 3
   },
   "file_extension": ".py",
   "mimetype": "text/x-python",
   "name": "python",
   "nbconvert_exporter": "python",
   "pygments_lexer": "ipython3",
   "version": "3.8.5"
  }
 },
 "nbformat": 4,
 "nbformat_minor": 5
}
