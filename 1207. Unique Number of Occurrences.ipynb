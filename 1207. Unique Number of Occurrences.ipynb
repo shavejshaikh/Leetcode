{
 "cells": [
  {
   "cell_type": "code",
   "execution_count": 46,
   "id": "f43a9660",
   "metadata": {},
   "outputs": [],
   "source": [
    "class Solution:\n",
    "    def uniqueOccurrences(self, arr) -> bool:\n",
    "        hashmap = {}\n",
    "        for i in arr:\n",
    "            hashmap[i] = hashmap.get(i,0)+1            \n",
    "        cnt = 0\n",
    "        s = set()\n",
    "        for k,v in hashmap.items():\n",
    "            s.add(v)\n",
    "        if len(s) != len(hashmap):\n",
    "            return True\n",
    "        return False\n",
    "    \n",
    "sol = Solution()"
   ]
  },
  {
   "cell_type": "code",
   "execution_count": 47,
   "id": "f7acda33",
   "metadata": {},
   "outputs": [
    {
     "data": {
      "text/plain": [
       "False"
      ]
     },
     "execution_count": 47,
     "metadata": {},
     "output_type": "execute_result"
    }
   ],
   "source": [
    "arr = [1,2,2,1,1,3]\n",
    "sol.uniqueOccurrences(arr)"
   ]
  },
  {
   "cell_type": "code",
   "execution_count": 48,
   "id": "891a0978",
   "metadata": {},
   "outputs": [
    {
     "data": {
      "text/plain": [
       "True"
      ]
     },
     "execution_count": 48,
     "metadata": {},
     "output_type": "execute_result"
    }
   ],
   "source": [
    "arr = [1,2]\n",
    "sol.uniqueOccurrences(arr)"
   ]
  },
  {
   "cell_type": "code",
   "execution_count": null,
   "id": "fe2dcba7",
   "metadata": {},
   "outputs": [],
   "source": []
  }
 ],
 "metadata": {
  "kernelspec": {
   "display_name": "Python 3 (ipykernel)",
   "language": "python",
   "name": "python3"
  },
  "language_info": {
   "codemirror_mode": {
    "name": "ipython",
    "version": 3
   },
   "file_extension": ".py",
   "mimetype": "text/x-python",
   "name": "python",
   "nbconvert_exporter": "python",
   "pygments_lexer": "ipython3",
   "version": "3.8.10"
  }
 },
 "nbformat": 4,
 "nbformat_minor": 5
}
