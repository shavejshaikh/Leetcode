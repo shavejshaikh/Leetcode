{
 "cells": [
  {
   "cell_type": "code",
   "execution_count": 9,
   "id": "0316ebc5",
   "metadata": {},
   "outputs": [
    {
     "name": "stdout",
     "output_type": "stream",
     "text": [
      "['h', 'e', 'l', 'l', 'o']\n",
      "Reverse String ['o', 'l', 'l', 'e', 'h']\n"
     ]
    },
    {
     "data": {
      "text/plain": [
       "['o', 'l', 'l', 'e', 'h']"
      ]
     },
     "execution_count": 9,
     "metadata": {},
     "output_type": "execute_result"
    }
   ],
   "source": [
    "class Solution:\n",
    "    def reverseString(self, s):\n",
    "        print(s)\n",
    "        print(f\"Reverse String {s[::-1]}\")\n",
    "        return s[::-1]\n",
    "        \n",
    "sol = Solution()\n",
    "s = [\"h\",\"e\",\"l\",\"l\",\"o\"]\n",
    "sol.reverseString(s)"
   ]
  },
  {
   "cell_type": "code",
   "execution_count": null,
   "id": "de84c602",
   "metadata": {},
   "outputs": [],
   "source": []
  }
 ],
 "metadata": {
  "kernelspec": {
   "display_name": "Python 3 (ipykernel)",
   "language": "python",
   "name": "python3"
  },
  "language_info": {
   "codemirror_mode": {
    "name": "ipython",
    "version": 3
   },
   "file_extension": ".py",
   "mimetype": "text/x-python",
   "name": "python",
   "nbconvert_exporter": "python",
   "pygments_lexer": "ipython3",
   "version": "3.8.10"
  }
 },
 "nbformat": 4,
 "nbformat_minor": 5
}
