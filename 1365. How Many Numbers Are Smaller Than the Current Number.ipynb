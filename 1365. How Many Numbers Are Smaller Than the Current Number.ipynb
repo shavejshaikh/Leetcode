{
 "cells": [
  {
   "cell_type": "code",
   "execution_count": 66,
   "id": "9906b041",
   "metadata": {},
   "outputs": [],
   "source": [
    "class Solution:\n",
    "    def smallerNumbersThanCurrent(self, nums):\n",
    "        hashmap = {}\n",
    "        for index, value in enumerate(sorted(nums)):\n",
    "            if value not in hashmap:\n",
    "                hashmap[value] = index\n",
    "        result = []\n",
    "        for i in range(len(nums)):\n",
    "            result.append(hashmap.get(nums[i]))\n",
    "        return result\n",
    "        \n",
    "sol = Solution()"
   ]
  },
  {
   "cell_type": "code",
   "execution_count": 67,
   "id": "af609047",
   "metadata": {},
   "outputs": [
    {
     "name": "stdout",
     "output_type": "stream",
     "text": [
      "{1: 0, 2: 1, 3: 3, 8: 4}\n"
     ]
    },
    {
     "data": {
      "text/plain": [
       "[4, 0, 1, 1, 3]"
      ]
     },
     "execution_count": 67,
     "metadata": {},
     "output_type": "execute_result"
    }
   ],
   "source": [
    "nums = [8,1,2,2,3]\n",
    "sol.smallerNumbersThanCurrent(nums)"
   ]
  },
  {
   "cell_type": "code",
   "execution_count": 60,
   "id": "d5594f68",
   "metadata": {},
   "outputs": [
    {
     "data": {
      "text/plain": [
       "[0, 1, 2, 3]"
      ]
     },
     "execution_count": 60,
     "metadata": {},
     "output_type": "execute_result"
    }
   ],
   "source": [
    "nums = [6,5,4,8]\n",
    "sol.smallerNumbersThanCurrent(nums)"
   ]
  },
  {
   "cell_type": "code",
   "execution_count": 61,
   "id": "4f2b0167",
   "metadata": {},
   "outputs": [
    {
     "data": {
      "text/plain": [
       "[0, 0, 0, 0]"
      ]
     },
     "execution_count": 61,
     "metadata": {},
     "output_type": "execute_result"
    }
   ],
   "source": [
    "nums = [7,7,7,7]\n",
    "sol.smallerNumbersThanCurrent(nums)"
   ]
  },
  {
   "cell_type": "code",
   "execution_count": null,
   "id": "a7daf999",
   "metadata": {},
   "outputs": [],
   "source": []
  },
  {
   "cell_type": "code",
   "execution_count": null,
   "id": "b22703f7",
   "metadata": {},
   "outputs": [],
   "source": []
  }
 ],
 "metadata": {
  "kernelspec": {
   "display_name": "Python 3 (ipykernel)",
   "language": "python",
   "name": "python3"
  },
  "language_info": {
   "codemirror_mode": {
    "name": "ipython",
    "version": 3
   },
   "file_extension": ".py",
   "mimetype": "text/x-python",
   "name": "python",
   "nbconvert_exporter": "python",
   "pygments_lexer": "ipython3",
   "version": "3.8.10"
  }
 },
 "nbformat": 4,
 "nbformat_minor": 5
}
