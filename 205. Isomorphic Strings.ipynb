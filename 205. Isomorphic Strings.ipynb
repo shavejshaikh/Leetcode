{
 "cells": [
  {
   "cell_type": "code",
   "execution_count": 45,
   "id": "09ecfdf8",
   "metadata": {},
   "outputs": [
    {
     "name": "stdout",
     "output_type": "stream",
     "text": [
      "{}   None  p -- t\n",
      "{'p': 't'}\n",
      "\n",
      "\n",
      "{'p': 't'}   None  a -- i\n",
      "{'p': 't', 'a': 'i'}\n",
      "\n",
      "\n",
      "{'p': 't', 'a': 'i'}   t  p -- t\n"
     ]
    },
    {
     "data": {
      "text/plain": [
       "False"
      ]
     },
     "execution_count": 45,
     "metadata": {},
     "output_type": "execute_result"
    }
   ],
   "source": [
    "class Solution:\n",
    "    def isIsomorphic(self, s: str, t: str) -> bool:\n",
    "        if len(s) != len(t):\n",
    "            return False\n",
    "        \n",
    "        hashmap = {}\n",
    "        \n",
    "        for i in range(len(s)):\n",
    "            hash_ = hashmap.get(s[i])\n",
    "            print(hashmap, \" \",hash_, \"\", s[i], \"--\", t[i])\n",
    "            if t[i] in hashmap or s[i] in hashmap:\n",
    "                return False\n",
    "            \n",
    "            elif hash_ == None:\n",
    "                hashmap[s[i]] = t[i]\n",
    "                print(hashmap)\n",
    "            elif hash_ != t[i]:\n",
    "                return False\n",
    "            print(\"\\n\")\n",
    "        return True\n",
    "    \n",
    "    \n",
    "# s = \"egg\"\n",
    "# t = \"add\"\n",
    " \n",
    "# s = \"foo\"\n",
    "# t = \"bar\"\n",
    "\n",
    "# s = \"badc\"\n",
    "# t = \"baba\"\n",
    "\n",
    "s = \"paper\"\n",
    "t = \"title\"\n",
    "\n",
    "sol = Solution()\n",
    "sol.isIsomorphic(s, t)\n"
   ]
  },
  {
   "cell_type": "code",
   "execution_count": null,
   "id": "7365b288",
   "metadata": {},
   "outputs": [],
   "source": []
  }
 ],
 "metadata": {
  "kernelspec": {
   "display_name": "Python 3 (ipykernel)",
   "language": "python",
   "name": "python3"
  },
  "language_info": {
   "codemirror_mode": {
    "name": "ipython",
    "version": 3
   },
   "file_extension": ".py",
   "mimetype": "text/x-python",
   "name": "python",
   "nbconvert_exporter": "python",
   "pygments_lexer": "ipython3",
   "version": "3.8.10"
  }
 },
 "nbformat": 4,
 "nbformat_minor": 5
}
