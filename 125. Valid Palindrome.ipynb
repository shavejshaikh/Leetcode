{
 "cells": [
  {
   "cell_type": "code",
   "execution_count": 21,
   "id": "8479d947",
   "metadata": {},
   "outputs": [
    {
     "name": "stdout",
     "output_type": "stream",
     "text": [
      "aman,aplan,acanal:panama\n"
     ]
    },
    {
     "data": {
      "text/plain": [
       "True"
      ]
     },
     "execution_count": 21,
     "metadata": {},
     "output_type": "execute_result"
    }
   ],
   "source": [
    "import re\n",
    "\n",
    "class Solution:\n",
    "    def isPalindrome(self, s: str) -> bool:\n",
    "        s = s.replace(\" \",\"\")\n",
    "        s = s.lower()\n",
    "        regex = re.findall('[^A-Za-z0-9]', s)\n",
    "        for i in regex:\n",
    "            s = s.replace(i,\"\")\n",
    "        if s == s[::-1]:\n",
    "            return True\n",
    "        return False\n",
    "    \n",
    "sol = Solution()\n",
    "s = \"A man, a plan, a canal: Panama\"\n",
    "sol.isPalindrome(s)"
   ]
  },
  {
   "cell_type": "code",
   "execution_count": 24,
   "id": "04f7c614",
   "metadata": {},
   "outputs": [
    {
     "name": "stdout",
     "output_type": "stream",
     "text": [
      "amanaplanacanalpanama\n"
     ]
    },
    {
     "data": {
      "text/plain": [
       "True"
      ]
     },
     "execution_count": 24,
     "metadata": {},
     "output_type": "execute_result"
    }
   ],
   "source": [
    "class Solution:\n",
    "    def isPalindrome(self, s: str) -> bool:\n",
    "        a = \"\"\n",
    "        for i in s:\n",
    "            if i.isalnum():\n",
    "                a+=i\n",
    "        if a.lower() == a[::-1].lower():\n",
    "            return True\n",
    "        return False\n",
    "    \n",
    "sol = Solution()\n",
    "s = \"A man, a plan, a canal: Panama\"\n",
    "sol.isPalindrome(s)"
   ]
  },
  {
   "cell_type": "code",
   "execution_count": null,
   "id": "b0fa9357",
   "metadata": {},
   "outputs": [],
   "source": []
  }
 ],
 "metadata": {
  "kernelspec": {
   "display_name": "Python 3 (ipykernel)",
   "language": "python",
   "name": "python3"
  },
  "language_info": {
   "codemirror_mode": {
    "name": "ipython",
    "version": 3
   },
   "file_extension": ".py",
   "mimetype": "text/x-python",
   "name": "python",
   "nbconvert_exporter": "python",
   "pygments_lexer": "ipython3",
   "version": "3.8.10"
  }
 },
 "nbformat": 4,
 "nbformat_minor": 5
}
