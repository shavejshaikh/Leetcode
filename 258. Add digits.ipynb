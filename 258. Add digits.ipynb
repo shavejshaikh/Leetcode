{
 "cells": [
  {
   "cell_type": "code",
   "execution_count": 11,
   "id": "5adbfd95",
   "metadata": {},
   "outputs": [
    {
     "name": "stdout",
     "output_type": "stream",
     "text": [
      "Add Digits 38\n",
      "3\n",
      "8\n",
      "Digit is : 19\n",
      "1\n",
      "9\n",
      "Digit is : 9\n",
      "9\n",
      "Digit is : 4\n",
      "4\n",
      "Digit is : 2\n",
      "2\n",
      "Digit is : 1\n",
      "1\n",
      "Digit is : 0\n"
     ]
    }
   ],
   "source": [
    "class Solution:\n",
    "    def addDigits(self, num):\n",
    "        print(f\"Add Digits {num}\")\n",
    "        \n",
    "        while num!= 0:\n",
    "            for i in str(num):\n",
    "                print(i)\n",
    "            num = num // 2\n",
    "            print(f\"Digit is : {num}\")\n",
    "sol = Solution()\n",
    "num = 38\n",
    "sol.addDigits(num)"
   ]
  },
  {
   "cell_type": "code",
   "execution_count": null,
   "id": "273bb948",
   "metadata": {},
   "outputs": [],
   "source": []
  }
 ],
 "metadata": {
  "kernelspec": {
   "display_name": "Python 3 (ipykernel)",
   "language": "python",
   "name": "python3"
  },
  "language_info": {
   "codemirror_mode": {
    "name": "ipython",
    "version": 3
   },
   "file_extension": ".py",
   "mimetype": "text/x-python",
   "name": "python",
   "nbconvert_exporter": "python",
   "pygments_lexer": "ipython3",
   "version": "3.8.10"
  }
 },
 "nbformat": 4,
 "nbformat_minor": 5
}
