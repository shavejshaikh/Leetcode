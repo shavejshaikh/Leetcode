{
 "cells": [
  {
   "cell_type": "code",
   "execution_count": 4,
   "id": "f98d949c",
   "metadata": {},
   "outputs": [
    {
     "name": "stdout",
     "output_type": "stream",
     "text": [
      "Add Strings 11-- 123\n",
      "134\n"
     ]
    },
    {
     "data": {
      "text/plain": [
       "'134'"
      ]
     },
     "execution_count": 4,
     "metadata": {},
     "output_type": "execute_result"
    }
   ],
   "source": [
    "class Solution:\n",
    "    def addStrings(self, num1: str, num2: str) -> str:\n",
    "        num_ = int(num1)+ int(num2)\n",
    "        return str(num_)\n",
    "\n",
    "sol = Solution()\n",
    "num1 = \"11\"\n",
    "num2 = \"123\"\n",
    "\n",
    "sol.addStrings(num1, num2)"
   ]
  },
  {
   "cell_type": "code",
   "execution_count": null,
   "id": "1c34da80",
   "metadata": {},
   "outputs": [],
   "source": []
  }
 ],
 "metadata": {
  "kernelspec": {
   "display_name": "Python 3 (ipykernel)",
   "language": "python",
   "name": "python3"
  },
  "language_info": {
   "codemirror_mode": {
    "name": "ipython",
    "version": 3
   },
   "file_extension": ".py",
   "mimetype": "text/x-python",
   "name": "python",
   "nbconvert_exporter": "python",
   "pygments_lexer": "ipython3",
   "version": "3.8.10"
  }
 },
 "nbformat": 4,
 "nbformat_minor": 5
}
