{
 "cells": [
  {
   "cell_type": "code",
   "execution_count": 37,
   "id": "58cea1cf",
   "metadata": {},
   "outputs": [
    {
     "name": "stdout",
     "output_type": "stream",
     "text": [
      "5\n",
      "[1, 2, 3, 0, 0, 0]\n",
      "[2, 5, 6]\n",
      "3 > 6\n",
      "[1, 2, 3, 0, 0, 6]\n",
      "[2, 5, 6]\n",
      "3 > 5\n",
      "[1, 2, 3, 0, 5, 6]\n",
      "[2, 5, 6]\n",
      "3 > 2\n",
      "[1, 2, 3, 3, 5, 6]\n",
      "[2, 5, 6]\n",
      "2 > 2\n",
      "[1, 2, 2, 3, 5, 6]\n"
     ]
    }
   ],
   "source": [
    "class Solution:\n",
    "    def merge(self, nums1, m: int, nums2, n: int) -> None:\n",
    "        last = m + n -1\n",
    "        print(last)\n",
    "        while m > 0 and n > 0:\n",
    "            print(nums1)\n",
    "            print(nums2)\n",
    "            print(nums1[m-1], \">\", nums2[n-1])\n",
    "            if nums1[m -1] > nums2[n-1]:\n",
    "                nums1[last] = nums1[m-1]\n",
    "                m-=1\n",
    "            else:\n",
    "                nums1[last] = nums2[n-1]\n",
    "                n-=1\n",
    "            last-=1\n",
    "        \n",
    "        while n > 0:\n",
    "            nums1[last] = nums2[n]\n",
    "            n, last = n-1, last-1\n",
    "                  \n",
    "        print(nums1)\n",
    "sol = Solution()\n",
    "\n",
    "nums1 = [1,2,3,0,0,0] \n",
    "m = 3\n",
    "nums2 = [2,5,6]\n",
    "n = 3\n",
    "sol.merge(nums1,m,nums2,n)"
   ]
  },
  {
   "cell_type": "code",
   "execution_count": 26,
   "id": "d80145d7",
   "metadata": {},
   "outputs": [
    {
     "data": {
      "text/plain": [
       "[1]"
      ]
     },
     "execution_count": 26,
     "metadata": {},
     "output_type": "execute_result"
    }
   ],
   "source": [
    "nums1 = [0] \n",
    "m = 0\n",
    "nums2 = [1]\n",
    "n = 1\n",
    "sol.merge(nums1, m, nums2, n)"
   ]
  },
  {
   "cell_type": "code",
   "execution_count": null,
   "id": "421704de",
   "metadata": {},
   "outputs": [],
   "source": []
  }
 ],
 "metadata": {
  "kernelspec": {
   "display_name": "Python 3 (ipykernel)",
   "language": "python",
   "name": "python3"
  },
  "language_info": {
   "codemirror_mode": {
    "name": "ipython",
    "version": 3
   },
   "file_extension": ".py",
   "mimetype": "text/x-python",
   "name": "python",
   "nbconvert_exporter": "python",
   "pygments_lexer": "ipython3",
   "version": "3.8.5"
  }
 },
 "nbformat": 4,
 "nbformat_minor": 5
}
